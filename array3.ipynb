{
  "nbformat": 4,
  "nbformat_minor": 0,
  "metadata": {
    "colab": {
      "provenance": [],
      "authorship_tag": "ABX9TyO2mL3dYdpRHWUsnSZnNqTV",
      "include_colab_link": true
    },
    "kernelspec": {
      "name": "python3",
      "display_name": "Python 3"
    },
    "language_info": {
      "name": "python"
    }
  },
  "cells": [
    {
      "cell_type": "markdown",
      "metadata": {
        "id": "view-in-github",
        "colab_type": "text"
      },
      "source": [
        "<a href=\"https://colab.research.google.com/github/marconifcn/desafio_git/blob/main/array3.ipynb\" target=\"_parent\"><img src=\"https://colab.research.google.com/assets/colab-badge.svg\" alt=\"Open In Colab\"/></a>"
      ]
    },
    {
      "cell_type": "markdown",
      "source": [
        "A loja de cosméticos ficou muito feliz com seu trabalho e chamaram você novamente! Dessa vez, eles precisam que você atualize o array de produtos. Agora, eles estão vendendo rímel ao invés de batons, e cremes hidratantes no lugar de loções. Além disso, ficaram sem delineadores, então precisam que você remova ele da lista de produtos. Imprima a nova lista no terminal para verificar que as alterações foram realizadas corretamente.\n",
        "\n",
        "lista_produtos = ['máscaras faciais', 'batons', 'esmaltes', 'perfumes', 'loções', 'xampus', 'sabonetes', 'delineadores']\n",
        "\n",
        "Como desafio, adicione dois novos produtos da sua escolha à lista.\n"
      ],
      "metadata": {
        "id": "NHZAdCvjuhZx"
      }
    },
    {
      "cell_type": "code",
      "source": [
        "lista_produtos = ['máscaras faciais', 'batons', 'esmaltes', 'perfumes', 'loções', 'xampus', 'sabonetes', 'delineadores']\n",
        "lista_produtos[1], lista_produtos[4] = \"rímel\", \"cremes hidratantes\"\n",
        "print(lista_produtos)\n",
        "lista_produtos.pop(7)\n",
        "print(lista_produtos)\n",
        "lista_produtos.append(\"tinta para cabelo\")\n",
        "lista_produtos.append(\"escova de dentes\")\n",
        "print(lista_produtos)\n",
        "for i in range(len(lista_produtos)):\n",
        "  print(\"Temos\", lista_produtos[i], \"a venda!\")"
      ],
      "metadata": {
        "id": "BfrAGgVupdGe",
        "outputId": "0e8fc595-8aa0-40bd-9df8-26774f6315d7",
        "colab": {
          "base_uri": "https://localhost:8080/"
        }
      },
      "execution_count": 3,
      "outputs": [
        {
          "output_type": "stream",
          "name": "stdout",
          "text": [
            "['máscaras faciais', 'rímel', 'esmaltes', 'perfumes', 'cremes hidratantes', 'xampus', 'sabonetes', 'delineadores']\n",
            "['máscaras faciais', 'rímel', 'esmaltes', 'perfumes', 'cremes hidratantes', 'xampus', 'sabonetes']\n",
            "['máscaras faciais', 'rímel', 'esmaltes', 'perfumes', 'cremes hidratantes', 'xampus', 'sabonetes', 'tinta para cabelo', 'escova de dentes']\n",
            "Temos máscaras faciais a venda!\n",
            "Temos rímel a venda!\n",
            "Temos esmaltes a venda!\n",
            "Temos perfumes a venda!\n",
            "Temos cremes hidratantes a venda!\n",
            "Temos xampus a venda!\n",
            "Temos sabonetes a venda!\n",
            "Temos tinta para cabelo a venda!\n",
            "Temos escova de dentes a venda!\n"
          ]
        }
      ]
    }
  ]
}