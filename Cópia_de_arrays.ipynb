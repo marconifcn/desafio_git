{
  "nbformat": 4,
  "nbformat_minor": 0,
  "metadata": {
    "colab": {
      "provenance": [],
      "authorship_tag": "ABX9TyNZ9iUbHlSYbLzWOoIkaytJ",
      "include_colab_link": true
    },
    "kernelspec": {
      "name": "python3",
      "display_name": "Python 3"
    },
    "language_info": {
      "name": "python"
    }
  },
  "cells": [
    {
      "cell_type": "markdown",
      "metadata": {
        "id": "view-in-github",
        "colab_type": "text"
      },
      "source": [
        "<a href=\"https://colab.research.google.com/github/marconifcn/desafio_git/blob/main/C%C3%B3pia_de_arrays.ipynb\" target=\"_parent\"><img src=\"https://colab.research.google.com/assets/colab-badge.svg\" alt=\"Open In Colab\"/></a>"
      ]
    },
    {
      "cell_type": "markdown",
      "source": [
        "Declare dois arrays, cada um com um mínimo de cinco elementos, e imprima eles no terminal usando o comando print(). O primeiro array deve conter os produtos de uma loja da sua escolha (loja de comida, materiais de construção, música, etc). O segundo array deve conter os anos de nascimento de familiares e amigos seus. Lembre-se de usar nomes descritivos para nomear cada variável, e de usar o tipo de dado apropriado para cada lista (strings, booleanos, números inteiros, floats).\n",
        "\n",
        "Trabalhe esse código no Google Colab, e compartilhe o link do projeto no campo ao lado para que outros desenvolvedores possam analisá-lo."
      ],
      "metadata": {
        "id": "Nv47eU5BHLZv"
      }
    },
    {
      "cell_type": "code",
      "source": [
        "lista_produtos = [\"arroz\",\"feijão\",\"Macarrão\",\"carne\",\"frango\"]\n",
        "print(lista_produtos)"
      ],
      "metadata": {
        "colab": {
          "base_uri": "https://localhost:8080/"
        },
        "id": "a7gt4Vo4HPzN",
        "outputId": "f021b84b-da14-462c-9e9c-9b45181c8349"
      },
      "execution_count": null,
      "outputs": [
        {
          "output_type": "stream",
          "name": "stdout",
          "text": [
            "['arroz', 'feijão', 'Macarrão', 'carne', 'frango']\n"
          ]
        }
      ]
    },
    {
      "cell_type": "code",
      "source": [
        "ano_nascimento = [1964,1970,1973,1977,1978]\n",
        "print(ano_nascimento)"
      ],
      "metadata": {
        "colab": {
          "base_uri": "https://localhost:8080/"
        },
        "id": "YynngeopH2ad",
        "outputId": "4f268fc8-1142-4ed7-e27e-690b065da6e0"
      },
      "execution_count": null,
      "outputs": [
        {
          "output_type": "stream",
          "name": "stdout",
          "text": [
            "[1964, 1970, 1973, 1977, 1978]\n"
          ]
        }
      ]
    }
  ]
}